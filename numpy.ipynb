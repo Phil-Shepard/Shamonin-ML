{
 "nbformat": 4,
 "nbformat_minor": 0,
 "metadata": {
  "colab": {
   "provenance": []
  },
  "kernelspec": {
   "name": "python3",
   "display_name": "Python 3 (ipykernel)",
   "language": "python"
  },
  "language_info": {
   "name": "python"
  }
 },
 "cells": [
  {
   "cell_type": "markdown",
   "source": [
    "<h1>Импорт библиотек"
   ],
   "metadata": {
    "id": "vC84e9kzyxPy"
   }
  },
  {
   "cell_type": "code",
   "metadata": {
    "id": "cgKeNegmQG5S",
    "jupyter": {
     "is_executing": true
    }
   },
   "source": [
    "import numpy as np\n",
    "import matplotlib.pyplot as plt"
   ],
   "outputs": [],
   "execution_count": null
  },
  {
   "cell_type": "markdown",
   "source": [
    "<h1>Задача 1. Дан набор из $p$ матриц размерностью $(n, n)$ и $p$ векторов размерностью $(n, 1)$, найти сумму произведений матриц на векторы. Написать тесты для кода"
   ],
   "metadata": {
    "id": "qFM9uVU2x4Ls"
   }
  },
  {
   "cell_type": "code",
   "source": [
    "def sum_prod(X, V):\n",
    "    '''\n",
    "    X - список матриц размерности (n, n)\n",
    "    V - список векторов размерности (n, 1)\n",
    "    Гарантируется, что len(X) == len(V)\n",
    "    '''\n",
    "    result = np.zeros_like(V[0])\n",
    "    for i in range(len(X)):\n",
    "        result += np.dot(X[i], V[i])\n",
    "        \n",
    "    return result\n",
    "\n",
    "# Тесты\n",
    "def test_sum_prod():\n",
    "    X1 = np.array([[1, 2], [3, 4]])  # Матрица 1\n",
    "    X2 = np.array([[5, 6], [7, 8]])  # Матрица 2\n",
    "    V1 = np.array([[1], [1]])        # Вектор 1\n",
    "    V2 = np.array([[1], [1]])        # Вектор 2\n",
    "    \n",
    "    X = [X1, X2]\n",
    "    V = [V1, V2]\n",
    "    expected_result = np.dot(X1, V1) + np.dot(X2, V2)\n",
    "    assert np.array_equal(sum_prod(X, V), expected_result), \"Тест 1 не пройден\"\n",
    "    print(\"Тест 1 пройден\")\n",
    "\n",
    "test_sum_prod()"
   ],
   "metadata": {
    "id": "IAbUvEiYyWFF",
    "ExecuteTime": {
     "end_time": "2024-10-10T14:14:30.940492Z",
     "start_time": "2024-10-10T14:14:30.934465Z"
    }
   },
   "outputs": [],
   "execution_count": 1
  },
  {
   "cell_type": "markdown",
   "source": [
    "<h1>Задача 2. Дана матрица M, напишите функцию, которая бинаризует матрицу по некоторому threshold (то есть, все значения большие threshold становятся равными 1, иначе 0). Напишите тесты для кода"
   ],
   "metadata": {
    "id": "TKwPG4fIy2w4"
   }
  },
  {
   "cell_type": "code",
   "source": [
    "import numpy as np\n",
    "\n",
    "def binarize(M, threshold=0.5):\n",
    "    '''\n",
    "    M - входная матрица (numpy array)\n",
    "    threshold - пороговое значение для бинаризации (по умолчанию 0.5)\n",
    "    '''\n",
    "    # Бинаризация матрицы: все значения больше threshold становятся 1, иначе 0\n",
    "    return (M > threshold).astype(int)\n",
    "\n",
    "# Тесты\n",
    "def test_binarize():\n",
    "    M1 = np.array([[0.2, 0.6], [0.8, 0.4]])\n",
    "    threshold1 = 0.5\n",
    "    expected1 = np.array([[0, 1], [1, 0]])\n",
    "    assert np.array_equal(binarize(M1, threshold1), expected1), \"Тест 1 не пройден\"\n",
    "\n",
    "    M2 = np.array([[0.1, 0.0], [-0.1, 0.5]])\n",
    "    threshold2 = 0\n",
    "    expected2 = np.array([[1, 0], [0, 1]])\n",
    "    assert np.array_equal(binarize(M2, threshold2), expected2), \"Тест 2 не пройден\"\n",
    "\n",
    "    M3 = np.array([[0.99, 1.0], [1.1, 0.4]])\n",
    "    threshold3 = 1.0\n",
    "    expected3 = np.array([[0, 0], [1, 0]])\n",
    "    assert np.array_equal(binarize(M3, threshold3), expected3), \"Тест 3 не пройден\"\n",
    "\n",
    "    print(\"Все тесты пройдены!\")\n",
    "\n",
    "test_binarize()\n"
   ],
   "metadata": {
    "id": "KQDNMgsjRNH7"
   },
   "execution_count": null,
   "outputs": []
  },
  {
   "cell_type": "markdown",
   "source": [
    "<h1>Задача 3. Напишите функцию, которая возвращает уникальные элементы из каждой строки матрицы. Напишите такую же функцию, но для столбцов. Напишите тесты для кода"
   ],
   "metadata": {
    "id": "IY5L-h-7zWhN"
   }
  },
  {
   "cell_type": "code",
   "source": [
    "import numpy as np\n",
    "\n",
    "def unique_rows(mat):\n",
    "    '''\n",
    "    Возвращает список массивов уникальных элементов для каждой строки матрицы\n",
    "    '''\n",
    "    return [np.unique(row) for row in mat]\n",
    "\n",
    "def unique_columns(mat):\n",
    "    '''\n",
    "    Возвращает список массивов уникальных элементов для каждого столбца матрицы\n",
    "    '''\n",
    "    return [np.unique(mat[:, col]) for col in range(mat.shape[1])]\n",
    "\n",
    "# Тесты\n",
    "def test_unique_rows_columns():\n",
    "    mat1 = np.array([[1, 2, 2], [3, 3, 1], [4, 4, 4]])\n",
    "    \n",
    "    expected_rows1 = [np.array([1, 2]), np.array([1, 3]), np.array([4])]\n",
    "    assert all(np.array_equal(unique_rows(mat1)[i], expected_rows1[i]) for i in range(len(expected_rows1))), \"Тест уникальных строк 1 не пройден\"\n",
    "    \n",
    "    expected_cols1 = [np.array([1, 3, 4]), np.array([2, 3, 4]), np.array([1, 2, 4])]\n",
    "    assert all(np.array_equal(unique_columns(mat1)[i], expected_cols1[i]) for i in range(len(expected_cols1))), \"Тест уникальных столбцов 1 не пройден\"\n",
    "    \n",
    "    mat2 = np.array([[1, 1, 1], [1, 1, 1], [1, 1, 1]])\n",
    "    \n",
    "    expected_rows2 = [np.array([1]), np.array([1]), np.array([1])]\n",
    "    expected_cols2 = [np.array([1]), np.array([1]), np.array([1])]\n",
    "    \n",
    "    assert all(np.array_equal(unique_rows(mat2)[i], expected_rows2[i]) for i in range(len(expected_rows2))), \"Тест уникальных строк 2 не пройден\"\n",
    "    assert all(np.array_equal(unique_columns(mat2)[i], expected_cols2[i]) for i in range(len(expected_cols2))), \"Тест уникальных столбцов 2 не пройден\"\n",
    "    \n",
    "    print(\"Все тесты пройдены!\")\n",
    "\n",
    "test_unique_rows_columns()\n"
   ],
   "metadata": {
    "id": "-8dEZhR0SBC-"
   },
   "execution_count": null,
   "outputs": []
  },
  {
   "cell_type": "markdown",
   "source": [
    "<h1>Задача 4. Напишите функцию, которая заполняет матрицу с размерами $(m, n)$ случайными числами, распределенными по нормальному закону. Затем считает мат. ожидание и дисперсию для каждого из столбцов и строк, а также строит для каждой строки и столбца гистограмму значений (использовать функцию hist из модуля matplotlib.plot)"
   ],
   "metadata": {
    "id": "roYAlo4Jz-lH"
   }
  },
  {
   "cell_type": "code",
   "source": [
    "import numpy as np\n",
    "import matplotlib.pyplot as plt\n",
    "\n",
    "def matrix_stats_and_histograms(rows, cols, mean=0, std_dev=1):\n",
    "    mat = np.random.normal(mean, std_dev, size=(rows, cols))\n",
    "\n",
    "    row_means = np.mean(mat, axis=1)\n",
    "    row_vars = np.var(mat, axis=1)\n",
    "    \n",
    "    col_means = np.mean(mat, axis=0)\n",
    "    col_vars = np.var(mat, axis=0)\n",
    "    \n",
    "    print(\"Мат. ожидание для каждой строки:\", row_means)\n",
    "    print(\"Дисперсия для каждой строки:\", row_vars)\n",
    "    print(\"Мат. ожидание для каждого столбца:\", col_means)\n",
    "    print(\"Дисперсия для каждого столбца:\", col_vars)\n",
    "    \n",
    "    for i in range(rows):\n",
    "        plt.figure()\n",
    "        plt.hist(mat[i, :], bins=10, alpha=0.7, color='blue')\n",
    "        plt.title(f'Гистограмма для строки {i+1}')\n",
    "        plt.xlabel('Значения')\n",
    "        plt.ylabel('Частота')\n",
    "        plt.grid(True)\n",
    "        plt.show()\n",
    "    \n",
    "    for j in range(cols):\n",
    "        plt.figure()\n",
    "        plt.hist(mat[:, j], bins=10, alpha=0.7, color='green')\n",
    "        plt.title(f'Гистограмма для столбца {j+1}')\n",
    "        plt.xlabel('Значения')\n",
    "        plt.ylabel('Частота')\n",
    "        plt.grid(True)\n",
    "        plt.show()\n",
    "\n",
    "matrix_stats_and_histograms(3, 4)\n"
   ],
   "metadata": {
    "id": "nZK_71hMSQzv"
   },
   "execution_count": null,
   "outputs": []
  },
  {
   "cell_type": "markdown",
   "source": [
    "<h1>Задача 5. Напишите функцию, которая заполняет матрицу $(m, n)$ в шахматном порядке заданными числами $a$ и $b$. Напишите тесты для кода"
   ],
   "metadata": {
    "id": "BDyATNdM0dJ2"
   }
  },
  {
   "cell_type": "code",
   "source": [
    "import numpy as np\n",
    "\n",
    "def chess(m, n, a, b):\n",
    "\n",
    "    mat = np.zeros((m, n))\n",
    "    \n",
    "    for i in range(m):\n",
    "        for j in range(n):\n",
    "            if (i + j) % 2 == 0:  \n",
    "                mat[i, j] = a\n",
    "            else:  \n",
    "                mat[i, j] = b\n",
    "    \n",
    "    return mat\n",
    "\n",
    "def test_chess():\n",
    "    m1, n1 = 3, 3\n",
    "    a1, b1 = 1, 0\n",
    "    expected1 = np.array([[1, 0, 1], \n",
    "                          [0, 1, 0], \n",
    "                          [1, 0, 1]])\n",
    "    assert np.array_equal(chess(m1, n1, a1, b1), expected1), \"Тест 1 не пройден\"\n",
    "\n",
    "    m2, n2 = 4, 4\n",
    "    a2, b2 = 2, 5\n",
    "    expected2 = np.array([[2, 5, 2, 5], \n",
    "                          [5, 2, 5, 2], \n",
    "                          [2, 5, 2, 5], \n",
    "                          [5, 2, 5, 2]])\n",
    "    assert np.array_equal(chess(m2, n2, a2, b2), expected2), \"Тест 2 не пройден\"\n",
    "    \n",
    "    m3, n3 = 2, 3\n",
    "    a3, b3 = 9, -3\n",
    "    expected3 = np.array([[9, -3, 9], \n",
    "                          [-3, 9, -3]])\n",
    "    assert np.array_equal(chess(m3, n3, a3, b3), expected3), \"Тест 3 не пройден\"\n",
    "    \n",
    "    print(\"Все тесты пройдены!\")\n",
    "\n",
    "test_chess()\n"
   ],
   "metadata": {
    "id": "RWNJYWQGecS6"
   },
   "execution_count": null,
   "outputs": []
  },
  {
   "cell_type": "markdown",
   "source": [
    "<h1>Задача 6. Напишите функцию, которая отрисовывает прямоугольник с заданными размерами (a, b) на изображении размера (m, n), цвет фона задайте в схеме RGB, как и цвет прямоугольника. Цвета также должны быть параметрами функции. Напишите аналогичную функцию но для овала с полуосями a и b. Напишите тесты для кода.\n",
    "Примечание: уравнение эллипса (границы овала) можно записать как:\n",
    "<h1>$\\frac{(x-x_0)^2}{a^2}+\\frac{(y-y_0)^2}{b^2}=1$"
   ],
   "metadata": {
    "id": "-ymXLtTN0vB6"
   }
  },
  {
   "cell_type": "code",
   "source": [
    "from PIL import Image, ImageDraw\n",
    "\n",
    "def draw_rectangle(m, n, a, b, bg_color, rect_color):\n",
    "\n",
    "    img = Image.new('RGB', (m, n), bg_color)\n",
    "    draw = ImageDraw.Draw(img)\n",
    "    \n",
    "    left = (m - a) // 2\n",
    "    top = (n - b) // 2\n",
    "    right = left + a\n",
    "    bottom = top + b\n",
    "    \n",
    "    draw.rectangle([left, top, right, bottom], fill=rect_color)\n",
    "    return img\n",
    "\n",
    "def draw_ellipse(m, n, a, b, bg_color, ellipse_color):\n",
    "\n",
    "    img = Image.new('RGB', (m, n), bg_color)\n",
    "    draw = ImageDraw.Draw(img)\n",
    "    \n",
    "    left = (m - a) // 2\n",
    "    top = (n - b) // 2\n",
    "    right = left + a\n",
    "    bottom = top + b\n",
    "    \n",
    "    draw.ellipse([left, top, right, bottom], fill=ellipse_color)\n",
    "\n",
    "    return img\n",
    "\n",
    "# Тесты\n",
    "def test_draw_shapes():\n",
    "    img_rect = draw_rectangle(200, 200, 100, 50, (255, 255, 255), (255, 0, 0))\n",
    "    img_rect.show()  \n",
    "    \n",
    "\n",
    "    img_ellipse = draw_ellipse(200, 200, 120, 60, (255, 255, 255), (0, 255, 0))\n",
    "    img_ellipse.show() \n",
    "\n",
    "test_draw_shapes()\n"
   ],
   "metadata": {
    "id": "sNfl1t_kfOF4"
   },
   "execution_count": 1,
   "outputs": []
  },
  {
   "cell_type": "markdown",
   "source": [
    "<h1>Задача 7. Дан некий временной ряд. Для данного ряда нужно найти его: математическое ожидание, дисперсию, СКО, найти все локальные максимумы и минимумы (локальный максимум - это точка, которая больше своих соседних точек, а локальный минимум - это точка, которая меньше своих соседей), а также вычислить для данного ряда другой ряд, получаемый методом скользящего среднего с размером окна $p$.\n",
    "<h1>Примечание: метод скользящего среднего подразумевает нахождение среднего из подмножетсва ряда размером $p$"
   ],
   "metadata": {
    "id": "S82c38oz244H"
   }
  },
  {
   "cell_type": "code",
   "source": [
    "import numpy as np\n",
    "\n",
    "def time_series_analysis(series, p):\n",
    "    \n",
    "    mean = np.mean(series)\n",
    "    \n",
    "    variance = np.var(series)\n",
    "    \n",
    "    std_dev = np.std(series)\n",
    "    \n",
    "    local_maxima = []\n",
    "    local_minima = []\n",
    "    \n",
    "    for i in range(1, len(series) - 1):\n",
    "        if series[i] > series[i - 1] and series[i] > series[i + 1]:\n",
    "            local_maxima.append((i, series[i]))  # добавляем индекс и значение\n",
    "        elif series[i] < series[i - 1] and series[i] < series[i + 1]:\n",
    "            local_minima.append((i, series[i]))  # добавляем индекс и значение\n",
    "    \n",
    "    moving_average = []\n",
    "    for i in range(len(series) - p + 1):\n",
    "        window = series[i:i + p]\n",
    "        window_avg = np.mean(window)\n",
    "        moving_average.append(window_avg)\n",
    "    \n",
    "    return {\n",
    "        'mean': mean,\n",
    "        'variance': variance,\n",
    "        'std_dev': std_dev,\n",
    "        'local_maxima': local_maxima,\n",
    "        'local_minima': local_minima,\n",
    "        'moving_average': moving_average\n",
    "    }\n",
    "\n",
    "def test_time_series_analysis():\n",
    "    series = [1, 3, 7, 1, 2, 6, 0, 1, 4, 3, 2]\n",
    "    p = 3\n",
    "    \n",
    "    result = time_series_analysis(series, p)\n",
    "    \n",
    "    print(\"Математическое ожидание:\", result['mean'])\n",
    "    print(\"Дисперсия:\", result['variance'])\n",
    "    print(\"СКО:\", result['std_dev'])\n",
    "    print(\"Локальные максимумы (индексы и значения):\", result['local_maxima'])\n",
    "    print(\"Локальные минимумы (индексы и значения):\", result['local_minima'])\n",
    "    print(\"Скользящее среднее с окном\", p, \":\", result['moving_average'])\n",
    "\n",
    "test_time_series_analysis()\n"
   ],
   "metadata": {
    "id": "Zb9mIVge5MMt"
   },
   "execution_count": null,
   "outputs": []
  },
  {
   "cell_type": "markdown",
   "source": [
    "<h1> Задача 8. Дан некоторый вектор с целочисленными метками классов, напишите функцию, которая выполняет one-hot-encoding для данного вектора\n",
    "<h1> One-hot-encoding - представление, в котором на месте метки некоторого класса стоит 1, в остальных позициях стоит 0. Например для вектора [0, 2, 3, 0] one-hot-encoding выглядит как: [[1, 0, 0, 0], [0, 0, 1, 0], [0, 0, 0, 1], [1, 0, 0, 0]]"
   ],
   "metadata": {
    "id": "jPkylmOX5O9n"
   }
  },
  {
   "cell_type": "code",
   "source": [
    "import numpy as np\n",
    "\n",
    "def one_hot_encode(labels):\n",
    "    labels = np.array(labels)\n",
    "    num_classes = np.max(labels) + 1  \n",
    "    one_hot = np.zeros((labels.size, num_classes))\n",
    "    one_hot[np.arange(labels.size), labels] = 1\n",
    "    \n",
    "    return one_hot\n",
    "\n",
    "labels = [0, 2, 3, 0]\n",
    "one_hot = one_hot_encode(labels)\n",
    "print(one_hot)\n",
    "\n",
    "#Вывод\n",
    "# [[1. 0. 0. 0.]\n",
    "#  [0. 0. 1. 0.]\n",
    "#  [0. 0. 0. 1.]\n",
    "#  [1. 0. 0. 0.]]\n",
    "\n",
    "def test_one_hot_encode():\n",
    "    labels = [0, 1, 2, 3]\n",
    "    expected = np.array([[1, 0, 0, 0],\n",
    "                         [0, 1, 0, 0],\n",
    "                         [0, 0, 1, 0],\n",
    "                         [0, 0, 0, 1]])\n",
    "    result = one_hot_encode(labels)\n",
    "    assert np.array_equal(result, expected), f\"Ожидалось {expected}, получено {result}\"\n",
    "    \n",
    "    labels = [3, 2, 1, 0]\n",
    "    expected = np.array([[0, 0, 0, 1],\n",
    "                         [0, 0, 1, 0],\n",
    "                         [0, 1, 0, 0],\n",
    "                         [1, 0, 0, 0]])\n",
    "    result = one_hot_encode(labels)\n",
    "    assert np.array_equal(result, expected), f\"Ожидалось {expected}, получено {result}\"\n",
    "    \n",
    "    labels = [0, 0, 0, 0]\n",
    "    expected = np.array([[1, 0, 0, 0],\n",
    "                         [1, 0, 0, 0],\n",
    "                         [1, 0, 0, 0],\n",
    "                         [1, 0, 0, 0]])\n",
    "    result = one_hot_encode(labels)\n",
    "    assert np.array_equal(result, expected), f\"Ожидалось {expected}, получено {result}\"\n",
    "    \n",
    "    print(\"Все тесты пройдены.\")\n",
    "\n",
    "test_one_hot_encode()\n"
   ],
   "metadata": {
    "id": "Y-jlnZvw56lD"
   },
   "outputs": [],
   "execution_count": null
  }
 ]
}
