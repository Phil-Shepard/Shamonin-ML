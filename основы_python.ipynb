{
 "nbformat": 4,
 "nbformat_minor": 0,
 "metadata": {
  "colab": {
   "provenance": []
  },
  "kernelspec": {
   "name": "python3",
   "display_name": "Python 3"
  },
  "language_info": {
   "name": "python"
  }
 },
 "cells": [
  {
   "cell_type": "markdown",
   "source": [
    "#Задача 1\n",
    "Написать функцию на вход которой подается строка, состоящая из латинских букв.\n",
    "Функция должна вернуть количество гласных букв (a, e, i, o, u) в этой строке. Написать тесты для кода"
   ],
   "metadata": {
    "id": "M-DGa20PaHnu"
   }
  },
  {
   "cell_type": "code",
   "source": [
    "def count_vowels(s):\n",
    "    vowels = 'aeiouAEIOU'\n",
    "    return sum(1 for char in s if char in vowels)\n",
    "\n",
    "def test_count_vowels():\n",
    "    assert count_vowels(\"hello\") == 2, \"Ошибка: должно быть 2\"\n",
    "    assert count_vowels(\"world\") == 1, \"Ошибка: должно быть 1\"\n",
    "    assert count_vowels(\"Python\") == 1, \"Ошибка: должно быть 1\"\n",
    "    assert count_vowels(\"\") == 0, \"Ошибка: должно быть 0\"\n",
    "    assert count_vowels(\"AEIOU\") == 5, \"Ошибка: должно быть 5\"\n",
    "    assert count_vowels(\"bcdfgh\") == 0, \"Ошибка: должно быть 0\"\n",
    "    assert count_vowels(\"aAeEiIoOuU\") == 10, \"Ошибка: должно быть 10\"\n",
    "    \n",
    "    print(\"Все тесты пройдены!\")\n",
    "\n",
    "test_count_vowels()\n"
   ],
   "metadata": {
    "id": "XvX8X_JJ6PCb"
   },
   "execution_count": null,
   "outputs": []
  },
  {
   "cell_type": "markdown",
   "source": [
    "# Задача 2\n",
    "Написать функцию на вход, которой подается строка. Функция должна вернуть true, если\n",
    "каждый символ в строке встречается только 1 раз, иначе должна вернуть false. Написать тесты для кода"
   ],
   "metadata": {
    "id": "t2ClV_Y0bbr6"
   }
  },
  {
   "cell_type": "code",
   "source": [
    "def has_unique_characters(s):\n",
    "    return len(set(s)) == len(s)\n",
    "\n",
    "def test_has_unique_characters():\n",
    "    assert has_unique_characters(\"hello\") == False, \"Ошибка: 'hello' не уникально\"\n",
    "    assert has_unique_characters(\"world\") == True, \"Ошибка: 'world' уникально\"\n",
    "    assert has_unique_characters(\"Python\") == True, \"Ошибка: 'Python' уникально\"\n",
    "    assert has_unique_characters(\"\") == True, \"Ошибка: пустая строка уникальна\"\n",
    "    assert has_unique_characters(\"abcde\") == True, \"Ошибка: 'abcde' уникально\"\n",
    "    assert has_unique_characters(\"aabbcc\") == False, \"Ошибка: 'aabbcc' не уникально\"\n",
    "    assert has_unique_characters(\"123456\") == True, \"Ошибка: '123456' уникально\"\n",
    "    assert has_unique_characters(\"!@#$%^&*()\") == True, \"Ошибка: '!@#$%^&*()' уникально\"\n",
    "\n",
    "    print(\"Все тесты пройдены!\")\n",
    "\n",
    "test_has_unique_characters()\n"
   ],
   "metadata": {
    "id": "FppbECao6VIz"
   },
   "execution_count": null,
   "outputs": []
  },
  {
   "cell_type": "markdown",
   "source": [
    "# Задача 3\n",
    "Написать функцию, которая принимает положительное число и возвращает количество\n",
    "бит равных 1 в этом числе. Написать тесты для кода"
   ],
   "metadata": {
    "id": "udRiIK1cdt6E"
   }
  },
  {
   "cell_type": "code",
   "source": [
    "def count_bits(n):\n",
    "    if n < 0:\n",
    "        raise ValueError(\"Число должно быть положительным.\")\n",
    "    return bin(n).count('1')\n",
    "\n",
    "def test_count_bits():\n",
    "    assert count_bits(0) == 0, \"Ошибка: количество бит в 0 должно быть 0\"\n",
    "    assert count_bits(1) == 1, \"Ошибка: количество бит в 1 должно быть 1\"\n",
    "    assert count_bits(2) == 1, \"Ошибка: количество бит в 2 должно быть 1\"\n",
    "    assert count_bits(3) == 2, \"Ошибка: количество бит в 3 должно быть 2\"\n",
    "    assert count_bits(4) == 1, \"Ошибка: количество бит в 4 должно быть 1\"\n",
    "    assert count_bits(5) == 2, \"Ошибка: количество бит в 5 должно быть 2\"\n",
    "    assert count_bits(15) == 4, \"Ошибка: количество бит в 15 должно быть 4\"\n",
    "    assert count_bits(16) == 1, \"Ошибка: количество бит в 16 должно быть 1\"\n",
    "    assert count_bits(255) == 8, \"Ошибка: количество бит в 255 должно быть 8\"\n",
    "\n",
    "    print(\"Все тесты пройдены!\")\n",
    "\n",
    "test_count_bits()\n"
   ],
   "metadata": {
    "id": "6tkfDJRz6dp_"
   },
   "execution_count": null,
   "outputs": []
  },
  {
   "cell_type": "markdown",
   "source": [
    "# Задача 4\n",
    "Написать функцию, которая принимает положительное число. Функция должна вернуть то,\n",
    "сколько раз необходимо перемножать цифры числа или результат перемножения, чтобы\n",
    "получилось число состоящее из одной цифры.\n",
    "Например, для входного числа:\n",
    "· 39 функция должна вернуть 3, так как 3*9=27 => 2*7=14 => 1*4=4\n",
    "· 4 функция должна вернуть 0, так как число уже состоит из одной цифры\n",
    "· 999 функция должна вернуть 4, так как 9*9*9=729 => 7*2*9=126 => 1*2*6=12 =>\n",
    "1*2=2. Написать тесты для кода"
   ],
   "metadata": {
    "id": "26dDUz-Ae17N"
   }
  },
  {
   "cell_type": "code",
   "source": [
    "def multiply_digits(n):\n",
    "    product = 1\n",
    "    while n > 0:\n",
    "        product *= n % 10\n",
    "        n //= 10\n",
    "    return product\n",
    "\n",
    "def persistence(n):\n",
    "    if n < 10:\n",
    "        return 0\n",
    "    \n",
    "    count = 0\n",
    "    while n >= 10:\n",
    "        n = multiply_digits(n)\n",
    "        count += 1\n",
    "    \n",
    "    return count\n",
    "\n",
    "def test_persistence():\n",
    "    assert persistence(39) == 3, \"Ошибка: для 39 должно быть 3\"\n",
    "    assert persistence(4) == 0, \"Ошибка: для 4 должно быть 0\"\n",
    "    assert persistence(999) == 4, \"Ошибка: для 999 должно быть 4\"\n",
    "    assert persistence(25) == 2, \"Ошибка: для 25 должно быть 2\"\n",
    "    assert persistence(77) == 4, \"Ошибка: для 77 должно быть 4\"\n",
    "    assert persistence(123) == 2, \"Ошибка: для 123 должно быть 2\"\n",
    "    assert persistence(10) == 1, \"Ошибка: для 10 должно быть 1\"\n",
    "    \n",
    "    print(\"Все тесты пройдены!\")\n",
    "\n",
    "test_persistence()\n"
   ],
   "metadata": {
    "id": "BH1A_Mgi6i4G"
   },
   "execution_count": null,
   "outputs": []
  },
  {
   "cell_type": "markdown",
   "source": [
    "# Задача 5\n",
    "Написать функцию, которая принимает два целочисленных вектора одинаковой длины и\n",
    "возвращает среднеквадратическое отклонение двух векторов. Написать тесты для кода"
   ],
   "metadata": {
    "id": "0nS-kIa8g8vd"
   }
  },
  {
   "cell_type": "code",
   "source": [
    "import math\n",
    "\n",
    "def calculate_std_deviation(vector1, vector2):\n",
    "    if len(vector1) != len(vector2):\n",
    "        raise ValueError(\"Векторы должны быть одинаковой длины.\")\n",
    "    \n",
    "    n = len(vector1)\n",
    "    squared_diffs = [(vector1[i] - vector2[i]) ** 2 for i in range(n)]\n",
    "    mean_squared_diff = sum(squared_diffs) / n\n",
    "    return math.sqrt(mean_squared_diff)\n",
    "\n",
    "def test_calculate_std_deviation():\n",
    "    assert math.isclose(calculate_std_deviation([1, 2, 3], [4, 5, 6]), 3.0), \"Ошибка: тест 1\"\n",
    "    assert math.isclose(calculate_std_deviation([10, 20, 30], [10, 20, 30]), 0.0), \"Ошибка: тест 2\"\n",
    "    assert math.isclose(calculate_std_deviation([-1, -2, -3], [-4, -5, -6]), 3.0), \"Ошибка: тест 3\"\n",
    "    assert math.isclose(calculate_std_deviation([1, 2], [2, 1]), 0.7071067811865476), \"Ошибка: тест 4\"\n",
    "    assert math.isclose(calculate_std_deviation([1, 3, 5], [2, 4, 6]), 0.816496580927726), \"Ошибка: тест 5\"\n",
    "    \n",
    "    print(\"Все тесты пройдены!\")\n",
    "\n",
    "test_calculate_std_deviation()\n"
   ],
   "metadata": {
    "id": "8iphx4LM6xbx"
   },
   "execution_count": null,
   "outputs": []
  },
  {
   "cell_type": "markdown",
   "source": [
    "# Задача 6\n",
    "Написать функцию, принимающая целое положительное число. Функция должна вернуть\n",
    "строку вида “(n1**p1)(n2**p2)…(nk**pk)” представляющая разложение числа на простые\n",
    "множители (если pi == 1, то выводить только ni).\n",
    "Например, для числа 86240 функция должна вернуть “(2**5)(5)(7**2)(11)”. Написать тесты для кода"
   ],
   "metadata": {
    "id": "vpIPKL439zkw"
   }
  },
  {
   "cell_type": "code",
   "source": [
    "def prime_factorization(n):\n",
    "    if n <= 0:\n",
    "        raise ValueError(\"Число должно быть положительным.\")\n",
    "    \n",
    "    factors = {}\n",
    "    divisor = 2\n",
    "\n",
    "    while n > 1:\n",
    "        while n % divisor == 0:\n",
    "            if divisor in factors:\n",
    "                factors[divisor] += 1\n",
    "            else:\n",
    "                factors[divisor] = 1\n",
    "            n //= divisor\n",
    "        divisor += 1\n",
    "\n",
    "    result = []\n",
    "    for prime, count in factors.items():\n",
    "        if count == 1:\n",
    "            result.append(f\"({prime})\")\n",
    "        else:\n",
    "            result.append(f\"({prime}**{count})\")\n",
    "    \n",
    "    return ''.join(result)\n",
    "\n",
    "def test_prime_factorization():\n",
    "    assert prime_factorization(86240) == \"(2**5)(5)(7)(11)\", \"Ошибка: тест 1\"\n",
    "    assert prime_factorization(100) == \"(2**2)(5**2)\", \"Ошибка: тест 2\"\n",
    "    assert prime_factorization(36) == \"(2**2)(3**2)\", \"Ошибка: тест 3\"\n",
    "    assert prime_factorization(37) == \"(37)\", \"Ошибка: тест 4\"\n",
    "    assert prime_factorization(1) == \"\", \"Ошибка: тест 5\"  # 1 не имеет разложения\n",
    "\n",
    "    print(\"Все тесты пройдены!\")\n",
    "\n",
    "test_prime_factorization()\n"
   ],
   "metadata": {
    "id": "pFebmcZk94Jw"
   },
   "execution_count": null,
   "outputs": []
  },
  {
   "cell_type": "markdown",
   "source": [
    "# Задача 7\n",
    "Написать функцию, принимающая целое число n, задающее количество кубиков. Функция\n",
    "должна определить, можно ли из данного кол-ва кубиков построить пирамиду, то есть\n",
    "можно ли представить число n как 1^2+2^2+3^2+…+k^2. Если можно, то функция должна\n",
    "вернуть k, иначе строку “It is impossible”. Написать тесты для кода"
   ],
   "metadata": {
    "id": "ps2s0BudX7A2"
   }
  },
  {
   "cell_type": "code",
   "source": [
    "def can_build_pyramid(n):\n",
    "    if n < 1:\n",
    "        return \"It is impossible\"\n",
    "\n",
    "    k = 1\n",
    "    total_cubes = 0\n",
    "\n",
    "    while total_cubes < n:\n",
    "        total_cubes += k ** 2\n",
    "        if total_cubes == n:\n",
    "            return k\n",
    "        k += 1\n",
    "\n",
    "    return \"It is impossible\"\n",
    "\n",
    "def test_can_build_pyramid():\n",
    "    assert can_build_pyramid(1) == 1, \"Ошибка: тест 1\"\n",
    "    assert can_build_pyramid(5) == \"It is impossible\", \"Ошибка: тест 2\"\n",
    "    assert can_build_pyramid(14) == 3, \"Ошибка: тест 3\"\n",
    "    assert can_build_pyramid(30) == \"It is impossible\", \"Ошибка: тест 4\"\n",
    "    assert can_build_pyramid(55) == 5, \"Ошибка: тест 5\"\n",
    "    assert can_build_pyramid(0) == \"It is impossible\", \"Ошибка: тест 6\"\n",
    "    assert can_build_pyramid(-10) == \"It is impossible\", \"Ошибка: тест 7\"\n",
    "\n",
    "    print(\"Все тесты пройдены!\")\n",
    "\n",
    "test_can_build_pyramid()\n"
   ],
   "metadata": {
    "id": "3YPjEXxhX_YT"
   },
   "execution_count": null,
   "outputs": []
  },
  {
   "cell_type": "markdown",
   "source": [
    "# Задача 8\n",
    "Функция принимает на вход положительное число и определяет является ли оно сбалансированным, т.е. сумма цифр до средних равна сумме цифр после. Средними в случае нечетного числа цифр считать одну цифру, в случае четного - две средних. Написать тесты для кода"
   ],
   "metadata": {
    "id": "KeKgmIdAQMEJ"
   }
  },
  {
   "cell_type": "code",
   "source": [
    "def is_balanced_number(n):\n",
    "    digits = [int(d) for d in str(n)]\n",
    "    length = len(digits)\n",
    "\n",
    "    if length < 2:\n",
    "        return True  \n",
    "\n",
    "    if length % 2 == 0:  \n",
    "        mid1 = length // 2 - 1\n",
    "        mid2 = mid1 + 1\n",
    "        left_sum = sum(digits[:mid1 + 1])\n",
    "        right_sum = sum(digits[mid2:])\n",
    "    else: \n",
    "        mid = length // 2\n",
    "        left_sum = sum(digits[:mid])\n",
    "        right_sum = sum(digits[mid + 1:])\n",
    "\n",
    "    return left_sum == right_sum\n",
    "\n",
    "def test_is_balanced_number():\n",
    "    assert is_balanced_number(123321) == True, \"Ошибка: тест 1\"\n",
    "    assert is_balanced_number(123456) == False, \"Ошибка: тест 2\"\n",
    "    assert is_balanced_number(12321) == True, \"Ошибка: тест 3\"\n",
    "    assert is_balanced_number(1) == True, \"Ошибка: тест 4\"\n",
    "    assert is_balanced_number(0) == True, \"Ошибка: тест 5\"\n",
    "    assert is_balanced_number(1233210) == False, \"Ошибка: тест 6\"\n",
    "    assert is_balanced_number(112233) == True, \"Ошибка: тест 7\"\n",
    "    assert is_balanced_number(1001) == True, \"Ошибка: тест 8\"\n",
    "    assert is_balanced_number(999999) == True, \"Ошибка: тест 9\"\n",
    "\n",
    "    print(\"Все тесты пройдены!\")\n",
    "\n",
    "test_is_balanced_number()\n"
   ],
   "metadata": {
    "id": "gMAAqtqlQrZt"
   },
   "execution_count": null,
   "outputs": []
  }
 ]
}
